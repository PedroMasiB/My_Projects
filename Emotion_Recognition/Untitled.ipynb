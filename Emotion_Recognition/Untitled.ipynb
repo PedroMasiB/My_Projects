{
 "cells": [
  {
   "cell_type": "code",
   "execution_count": 2,
   "id": "dfcfcf17-1668-47bf-bc4b-3121a9cad2ad",
   "metadata": {},
   "outputs": [],
   "source": [
    "import numpy as np\n",
    "import pandas as pd\n",
    "import cv2"
   ]
  },
  {
   "cell_type": "code",
   "execution_count": null,
   "id": "1f8a00cb-13fb-4807-a9b9-2a365a1c9fc8",
   "metadata": {},
   "outputs": [],
   "source": [
    "image = cv2.im"
   ]
  }
 ],
 "metadata": {
  "kernelspec": {
   "display_name": "Python 3 (ipykernel)",
   "language": "python",
   "name": "python3"
  },
  "language_info": {
   "codemirror_mode": {
    "name": "ipython",
    "version": 3
   },
   "file_extension": ".py",
   "mimetype": "text/x-python",
   "name": "python",
   "nbconvert_exporter": "python",
   "pygments_lexer": "ipython3",
   "version": "3.8.3rc1"
  }
 },
 "nbformat": 4,
 "nbformat_minor": 5
}
